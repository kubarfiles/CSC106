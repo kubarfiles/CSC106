{
 "cells": [
  {
   "cell_type": "code",
   "execution_count": 1,
   "id": "0b8b5115-4e07-438a-b866-fbeacd3bb836",
   "metadata": {},
   "outputs": [],
   "source": [
    "tuple_A = ('0',[1,2,3],('4','5','6'),'7.0')"
   ]
  },
  {
   "cell_type": "code",
   "execution_count": 2,
   "id": "da596c5d-7962-4f31-8f1d-ef865639e851",
   "metadata": {},
   "outputs": [
    {
     "data": {
      "text/plain": [
       "tuple"
      ]
     },
     "execution_count": 2,
     "metadata": {},
     "output_type": "execute_result"
    }
   ],
   "source": [
    "type(tuple_A)"
   ]
  },
  {
   "cell_type": "code",
   "execution_count": 9,
   "id": "fb2ed706-4d19-49ec-9a77-3a0f4e2ff429",
   "metadata": {},
   "outputs": [],
   "source": [
    "Student_Names = ('1. Jake',\n",
    "                 '2. Joe',\n",
    "                 '3. John')"
   ]
  },
  {
   "cell_type": "code",
   "execution_count": 11,
   "id": "35fcf8ef-04ec-419d-ac5c-9a26aa1d05c4",
   "metadata": {},
   "outputs": [
    {
     "data": {
      "text/plain": [
       "('1. Jake', '2. Joe', '3. John')"
      ]
     },
     "execution_count": 11,
     "metadata": {},
     "output_type": "execute_result"
    }
   ],
   "source": [
    "Student_Names"
   ]
  },
  {
   "cell_type": "code",
   "execution_count": 13,
   "id": "974b35a5-7387-49bb-b919-46074bbec381",
   "metadata": {},
   "outputs": [
    {
     "data": {
      "text/plain": [
       "tuple"
      ]
     },
     "execution_count": 13,
     "metadata": {},
     "output_type": "execute_result"
    }
   ],
   "source": [
    "type(Student_Names)"
   ]
  },
  {
   "cell_type": "code",
   "execution_count": 15,
   "id": "31f60bbb-7142-47c5-aab7-a67c25a9ce37",
   "metadata": {},
   "outputs": [],
   "source": [
    "Student_ID = ('Name: John Doe',\n",
    "              'Class: Computers',\n",
    "              'Homework: Week03 Lab01',\n",
    "              'Question: Tuples', \n",
    "               'Grade: D', \n",
    "               'Date: 9/11/23') "
   ]
  },
  {
   "cell_type": "code",
   "execution_count": 16,
   "id": "bd9fa196-d164-4bfa-a03e-f9c3b83f4cd6",
   "metadata": {},
   "outputs": [
    {
     "data": {
      "text/plain": [
       "('Name: John Doe',\n",
       " 'Class: Computers',\n",
       " 'Homework: Week03 Lab01',\n",
       " 'Question: Tuples',\n",
       " 'Grade: D',\n",
       " 'Date: 9/11/23')"
      ]
     },
     "execution_count": 16,
     "metadata": {},
     "output_type": "execute_result"
    }
   ],
   "source": [
    "Student_ID"
   ]
  },
  {
   "cell_type": "code",
   "execution_count": 17,
   "id": "f16103e8-5d81-4669-9ed1-31c83d17d3a9",
   "metadata": {},
   "outputs": [
    {
     "data": {
      "text/plain": [
       "tuple"
      ]
     },
     "execution_count": 17,
     "metadata": {},
     "output_type": "execute_result"
    }
   ],
   "source": [
    "type(Student_ID)"
   ]
  },
  {
   "cell_type": "code",
   "execution_count": null,
   "id": "3eaa4f65-d22d-44c5-9d6e-b6dc85c17028",
   "metadata": {},
   "outputs": [],
   "source": []
  }
 ],
 "metadata": {
  "kernelspec": {
   "display_name": "Python 3 (ipykernel)",
   "language": "python",
   "name": "python3"
  },
  "language_info": {
   "codemirror_mode": {
    "name": "ipython",
    "version": 3
   },
   "file_extension": ".py",
   "mimetype": "text/x-python",
   "name": "python",
   "nbconvert_exporter": "python",
   "pygments_lexer": "ipython3",
   "version": "3.10.12"
  }
 },
 "nbformat": 4,
 "nbformat_minor": 5
}
