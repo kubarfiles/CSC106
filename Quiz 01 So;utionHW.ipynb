{
 "cells": [
  {
   "cell_type": "markdown",
   "id": "f1c0b3bf",
   "metadata": {},
   "source": [
    "# Question 1"
   ]
  },
  {
   "cell_type": "raw",
   "id": "87b36eb2",
   "metadata": {},
   "source": [
    "A Python program is required to calculate the amount, in dollars, contained in a piggybank. The bank contains half dollars, quarters, dimes, nickels, and pennies."
   ]
  },
  {
   "cell_type": "raw",
   "id": "4471312e",
   "metadata": {},
   "source": [
    "a. For this programming problem, how many inputs and outputs are required?"
   ]
  },
  {
   "cell_type": "code",
   "execution_count": null,
   "id": "659a0953",
   "metadata": {},
   "outputs": [],
   "source": [
    "5 inputs\n",
    "1 output"
   ]
  },
  {
   "cell_type": "raw",
   "id": "7dfc57eb",
   "metadata": {},
   "source": [
    "b. Write an algorithm for converting the input items into output items."
   ]
  },
  {
   "cell_type": "code",
   "execution_count": 23,
   "id": "5ac15522",
   "metadata": {},
   "outputs": [],
   "source": [
    "#1. Define the quantities for half dollars, quarters, dimes, nickels, and pennies.\n",
    "number_of_half_dollars= 10\n",
    "number_of_quarters= 7\n",
    "number_of_dimes= 240\n",
    "number_of_nickels= 6\n",
    "number_of_pennies= 12\n",
    "\n",
    "#2. Build the algorithm.\n",
    "\n",
    "sum= number_of_half_dollars* 50 + number_of_quarters* 25 + number_of_dimes* 10 + number_of_nickels* 5+number_of_pennies* 1"
   ]
  },
  {
   "cell_type": "raw",
   "id": "9ae0d9a5",
   "metadata": {},
   "source": [
    "c. Test the algorithm written for Exercise 1c using the following sample data: half dollars 10,  \n",
    "   quarters 7, dimes 240, nickels 6, and pennies 12.\n"
   ]
  },
  {
   "cell_type": "code",
   "execution_count": 25,
   "id": "54a3813b-d9ec-4b18-a62e-443d79462ef3",
   "metadata": {},
   "outputs": [
    {
     "data": {
      "text/plain": [
       "3117"
      ]
     },
     "execution_count": 25,
     "metadata": {},
     "output_type": "execute_result"
    }
   ],
   "source": [
    "sum"
   ]
  },
  {
   "cell_type": "markdown",
   "id": "1f9d8183",
   "metadata": {},
   "source": [
    "# Question 2"
   ]
  },
  {
   "cell_type": "raw",
   "id": "c935ee31",
   "metadata": {},
   "source": [
    "You have been tasked to design a data container using tuples and list for the registrars office. This form would be used to request for transcripts from high schools. Please define the data elements for both the categories. \n"
   ]
  },
  {
   "cell_type": "raw",
   "id": "9aba34e3",
   "metadata": {},
   "source": [
    "Define List Data : elements that are ordered and can be mutable.\n",
    "\n",
    "1. student_ID\n",
    "2. age\n",
    "3. address\n",
    "4. grade level\n",
    "5. class schedule\n"
   ]
  },
  {
   "cell_type": "raw",
   "id": "5d42efb5",
   "metadata": {},
   "source": [
    "Define Tuple Data : elements that are ordered, but are immutable\n",
    "\n",
    "1. date of Birth\n",
    "2. gender\n",
    "3. test score\n",
    "4. previous school\n",
    "5. name of parents\n"
   ]
  },
  {
   "cell_type": "markdown",
   "id": "9cfc8652",
   "metadata": {},
   "source": [
    "# Question 3"
   ]
  },
  {
   "cell_type": "raw",
   "id": "9504c23c",
   "metadata": {},
   "source": [
    "Write a Python program to compute the differences between 3 rectangles whose lengths are 5, 4 and 3 and breadths are 3, 4 and 5 respectively.  \n"
   ]
  },
  {
   "cell_type": "raw",
   "id": "dd8afc41",
   "metadata": {},
   "source": [
    "Step 1 : Following mnemonics, define the parameters.\n",
    "    \n",
    "Square A\n",
    "Length :  SA_L\n",
    "Breadth : SA_B\n",
    "\n",
    "Square B\n",
    "Length :  SB_L\n",
    "Breadth : SB_B\n",
    "\n",
    "Square C\n",
    "Length :  SC_L\n",
    "Breadth : SC_B\n"
   ]
  },
  {
   "cell_type": "code",
   "execution_count": 28,
   "id": "f1d26485",
   "metadata": {},
   "outputs": [],
   "source": [
    "#Step 1 : Define the above parameters. \n",
    "Sq_A_L= 5\n",
    "Sq_A_B= 3\n",
    "\n",
    "Sq_B_L= 4\n",
    "Sq_B_B= 4\n",
    "\n",
    "Sq_C_L= 3\n",
    "Sq_C_B= 5\n",
    "\n",
    "Square_A_Area= Sq_A_L*Sq_A_B\n",
    "\n",
    "Square_B_Area= Sq_B_L*Sq_B_B\n",
    "\n",
    "Square_C_Area= Sq_C_L*Sq_A_B"
   ]
  },
  {
   "cell_type": "code",
   "execution_count": 31,
   "id": "21d74697-e8fd-4e50-a836-9bb4d108e873",
   "metadata": {},
   "outputs": [
    {
     "data": {
      "text/plain": [
       "15"
      ]
     },
     "execution_count": 31,
     "metadata": {},
     "output_type": "execute_result"
    }
   ],
   "source": [
    "Square_A_Area"
   ]
  },
  {
   "cell_type": "code",
   "execution_count": 32,
   "id": "b5e8b280-2b66-46aa-b8e7-8b7958b66d1a",
   "metadata": {},
   "outputs": [
    {
     "data": {
      "text/plain": [
       "16"
      ]
     },
     "execution_count": 32,
     "metadata": {},
     "output_type": "execute_result"
    }
   ],
   "source": [
    "Square_B_Area"
   ]
  },
  {
   "cell_type": "code",
   "execution_count": 33,
   "id": "f88c4855-c080-49ff-ab2c-1dcabd31ec77",
   "metadata": {},
   "outputs": [
    {
     "data": {
      "text/plain": [
       "15"
      ]
     },
     "execution_count": 33,
     "metadata": {},
     "output_type": "execute_result"
    }
   ],
   "source": [
    "Square_A_Area"
   ]
  },
  {
   "cell_type": "raw",
   "id": "e194af78",
   "metadata": {},
   "source": [
    "Step 2 : What parametric differences can we have : \n",
    "    \n",
    "1. Length\n",
    "2. Breadth\n",
    "3. Perimeter\n",
    "4. Area \n"
   ]
  },
  {
   "cell_type": "raw",
   "id": "6e65451a",
   "metadata": {},
   "source": [
    "Step 3 : Compute Difference between Square A and Square B.\n",
    "    \n",
    "1. Length Difference between Square A and Square B :\n",
    "2. Breadth Difference between Square A and Square B :\n",
    "3. Perimeter Difference between Square A and Square B :\n",
    "4. Area Difference between Square A and Square B :\n",
    " "
   ]
  },
  {
   "cell_type": "code",
   "execution_count": 36,
   "id": "6013c3fc",
   "metadata": {},
   "outputs": [],
   "source": [
    "Length_Difference= Sq_A_L-Sq_B_L"
   ]
  },
  {
   "cell_type": "code",
   "execution_count": 40,
   "id": "9e6a19c2-476d-4398-a08c-755f1d889cb8",
   "metadata": {},
   "outputs": [
    {
     "data": {
      "text/plain": [
       "1"
      ]
     },
     "execution_count": 40,
     "metadata": {},
     "output_type": "execute_result"
    }
   ],
   "source": [
    "Length_Difference"
   ]
  },
  {
   "cell_type": "code",
   "execution_count": 43,
   "id": "76575397",
   "metadata": {},
   "outputs": [],
   "source": [
    "Breadth_Difference= Sq_A_B-Sq_B_B"
   ]
  },
  {
   "cell_type": "code",
   "execution_count": 44,
   "id": "c94b45b6-1c9b-46f3-aa75-7f794553d19a",
   "metadata": {},
   "outputs": [
    {
     "data": {
      "text/plain": [
       "-1"
      ]
     },
     "execution_count": 44,
     "metadata": {},
     "output_type": "execute_result"
    }
   ],
   "source": [
    "Breadth_Difference"
   ]
  },
  {
   "cell_type": "code",
   "execution_count": 45,
   "id": "a0a97559",
   "metadata": {},
   "outputs": [],
   "source": [
    "Perimeter_of_Square_A= Sq_A_L*2 + Sq_A_B\n",
    "Perimeter_of_Square_B= Sq_B_L*2 + Sq_B_B\n",
    "Perimeter_Diference_Between_Square_A_and_B= Perimeter_of_Square_A-Perimeter_of_Square_B"
   ]
  },
  {
   "cell_type": "code",
   "execution_count": 46,
   "id": "26b84af2",
   "metadata": {},
   "outputs": [
    {
     "data": {
      "text/plain": [
       "1"
      ]
     },
     "execution_count": 46,
     "metadata": {},
     "output_type": "execute_result"
    }
   ],
   "source": [
    "Perimeter_Diference_Between_Square_A_and_B"
   ]
  },
  {
   "cell_type": "markdown",
   "id": "fa91f4e7",
   "metadata": {},
   "source": [
    "# Compute the differences for the remaining squares? "
   ]
  },
  {
   "cell_type": "code",
   "execution_count": 47,
   "id": "a903d3d4",
   "metadata": {},
   "outputs": [],
   "source": [
    "Length_Difference= Sq_A_L-Sq_C_L"
   ]
  },
  {
   "cell_type": "code",
   "execution_count": 48,
   "id": "1714dd22-7efe-4d83-8ff4-d7236c76643a",
   "metadata": {},
   "outputs": [
    {
     "data": {
      "text/plain": [
       "2"
      ]
     },
     "execution_count": 48,
     "metadata": {},
     "output_type": "execute_result"
    }
   ],
   "source": [
    "Length_Difference"
   ]
  },
  {
   "cell_type": "code",
   "execution_count": 51,
   "id": "b5a17e14-66f7-458b-998d-fc9f99c52f47",
   "metadata": {},
   "outputs": [],
   "source": [
    "Perimeter_of_Square_A= Sq_A_L*2 + Sq_C_B\n",
    "Perimeter_of_Square_B= Sq_B_L*2 + Sq_C_B\n",
    "Perimeter_of_Square_C= Sq_C_L*2 + Sq_C_L\n",
    "Perimeter_Diference_Between_Square_A_and_C= Perimeter_of_Square_A-Perimeter_of_Square_C"
   ]
  },
  {
   "cell_type": "code",
   "execution_count": 52,
   "id": "2c818f6a-8d30-4aa8-ae48-9e53435e265d",
   "metadata": {},
   "outputs": [
    {
     "data": {
      "text/plain": [
       "6"
      ]
     },
     "execution_count": 52,
     "metadata": {},
     "output_type": "execute_result"
    }
   ],
   "source": [
    "Perimeter_Diference_Between_Square_A_and_C"
   ]
  },
  {
   "cell_type": "code",
   "execution_count": 54,
   "id": "18c82d9d-3974-4e15-adbe-133147b42d0f",
   "metadata": {},
   "outputs": [],
   "source": [
    "Perimeter_Diference_Between_Square_B_and_C= Perimeter_of_Square_B-Perimeter_of_Square_C"
   ]
  },
  {
   "cell_type": "code",
   "execution_count": 55,
   "id": "9e5a2865-02ef-46f8-a73a-c314a312f38a",
   "metadata": {},
   "outputs": [
    {
     "data": {
      "text/plain": [
       "4"
      ]
     },
     "execution_count": 55,
     "metadata": {},
     "output_type": "execute_result"
    }
   ],
   "source": [
    "Perimeter_Diference_Between_Square_B_and_C"
   ]
  },
  {
   "cell_type": "code",
   "execution_count": null,
   "id": "d1e91882-5b6d-4b9b-a613-35e381472fe9",
   "metadata": {},
   "outputs": [],
   "source": []
  }
 ],
 "metadata": {
  "kernelspec": {
   "display_name": "Python 3 (ipykernel)",
   "language": "python",
   "name": "python3"
  },
  "language_info": {
   "codemirror_mode": {
    "name": "ipython",
    "version": 3
   },
   "file_extension": ".py",
   "mimetype": "text/x-python",
   "name": "python",
   "nbconvert_exporter": "python",
   "pygments_lexer": "ipython3",
   "version": "3.10.12"
  }
 },
 "nbformat": 4,
 "nbformat_minor": 5
}
